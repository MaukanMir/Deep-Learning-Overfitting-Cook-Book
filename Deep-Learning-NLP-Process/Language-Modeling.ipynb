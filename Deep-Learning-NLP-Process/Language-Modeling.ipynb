{
 "cells": [
  {
   "cell_type": "markdown",
   "metadata": {},
   "source": [
    "# Language Modeling"
   ]
  },
  {
   "cell_type": "markdown",
   "metadata": {},
   "source": [
    "## Statistical Language Modeling"
   ]
  },
  {
   "cell_type": "markdown",
   "metadata": {},
   "source": [
    "### Statistical Language Modeling, or Language Modeling and LM for short, is the development of probabilistic models that are able to predict the next word in the sequence given the words that precede it.\n"
   ]
  },
  {
   "cell_type": "markdown",
   "metadata": {},
   "source": [
    "### The neural network approach to language modeling can be described using the three following model properties, taken from A Neural Probabilistic Language Model, 2003.\n",
    "\n",
    "* Associate each word in the vocabulary with a distributed word feature vector.\n",
    "* Express the joint probability function of word sequences in terms of the feature vectors of these words in the sequence.\n",
    "* Learn simultaneously the word feature vector and the parameters of the probability function.\n"
   ]
  },
  {
   "cell_type": "code",
   "execution_count": null,
   "metadata": {},
   "outputs": [],
   "source": []
  }
 ],
 "metadata": {
  "language_info": {
   "name": "python"
  }
 },
 "nbformat": 4,
 "nbformat_minor": 2
}
