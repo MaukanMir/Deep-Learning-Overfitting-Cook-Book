{
 "cells": [
  {
   "cell_type": "markdown",
   "metadata": {},
   "source": [
    "# Models"
   ]
  },
  {
   "cell_type": "markdown",
   "metadata": {},
   "source": [
    "## How to Develop Vanilla LSTMs"
   ]
  },
  {
   "cell_type": "code",
   "execution_count": 1,
   "metadata": {},
   "outputs": [
    {
     "name": "stdout",
     "output_type": "stream",
     "text": [
      "[57, 83, 86, 95, 60, 94, 27, 68, 2, 89, 81, 43, 10, 9, 68, 16, 83, 98, 13, 61, 90, 44, 10, 45, 3]\n",
      "[[0 0 0 ... 0 0 0]\n",
      " [0 0 0 ... 0 0 0]\n",
      " [0 0 0 ... 0 0 0]\n",
      " ...\n",
      " [0 0 0 ... 0 0 0]\n",
      " [0 0 0 ... 0 0 0]\n",
      " [0 0 0 ... 0 0 0]]\n",
      "[57, 83, 86, 95, 60, 94, 27, 68, 2, 89, 81, 43, 10, 9, 68, 16, 83, 98, 13, 61, 90, 44, 10, 45, 3]\n"
     ]
    }
   ],
   "source": [
    "from random import randint\n",
    "from numpy import array\n",
    "from numpy import argmax\n",
    "# generate a sequence of random numbers in [0, n_features)\n",
    "def generate_sequence(length, n_features):\n",
    "  return [randint(0, n_features-1) for _ in range(length)]\n",
    "# one hot encode sequence\n",
    "def one_hot_encode(sequence, n_features):\n",
    "  encoding = list()\n",
    "  for value in sequence:\n",
    "    vector = [0 for _ in range(n_features)]\n",
    "    vector[value] = 1\n",
    "    encoding.append(vector)\n",
    "  return array(encoding)\n",
    "# decode a one hot encoded string\n",
    "def one_hot_decode(encoded_seq):\n",
    "  return [argmax(vector) for vector in encoded_seq]\n",
    "# generate random sequence\n",
    "sequence = generate_sequence(25, 100)\n",
    "print(sequence)\n",
    "# one hot encode\n",
    "encoded = one_hot_encode(sequence, 100)\n",
    "print(encoded)\n",
    "# one hot decode\n",
    "decoded = one_hot_decode(encoded)\n",
    "print(decoded)"
   ]
  }
 ],
 "metadata": {
  "kernelspec": {
   "display_name": "machine-learning-env",
   "language": "python",
   "name": "python3"
  },
  "language_info": {
   "codemirror_mode": {
    "name": "ipython",
    "version": 3
   },
   "file_extension": ".py",
   "mimetype": "text/x-python",
   "name": "python",
   "nbconvert_exporter": "python",
   "pygments_lexer": "ipython3",
   "version": "3.8.15"
  }
 },
 "nbformat": 4,
 "nbformat_minor": 2
}
