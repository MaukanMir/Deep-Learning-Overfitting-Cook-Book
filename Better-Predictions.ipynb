{
 "cells": [
  {
   "cell_type": "markdown",
   "metadata": {},
   "source": [
    "# Better Predictions"
   ]
  },
  {
   "cell_type": "markdown",
   "metadata": {},
   "source": [
    "## Reduce Model Variance with Ensemble Learning"
   ]
  },
  {
   "cell_type": "markdown",
   "metadata": {},
   "source": [
    "## High Variance of MLP Model"
   ]
  },
  {
   "cell_type": "code",
   "execution_count": 1,
   "metadata": {},
   "outputs": [],
   "source": [
    "# demonstrate high variance of mlp model on blobs classification problem\n",
    "from sklearn.datasets import make_blobs\n",
    "from keras.utils import to_categorical\n",
    "from keras.models import Sequential\n",
    "from keras.layers import Dense\n",
    "from numpy import mean\n",
    "from numpy import std\n",
    "from matplotlib import pyplot\n",
    "# fit and evaluate a neural net model on the dataset\n",
    "def evaluate_model(trainX, trainy, testX, testy):\n",
    "  # define model\n",
    "  model = Sequential()\n",
    "  model.add(Dense(15, input_dim=2, activation='relu'))\n",
    "  model.add(Dense(3, activation='softmax')) \n",
    "  model.compile(loss='categorical_crossentropy', optimizer='adam', metrics=['accuracy']) \n",
    "  # fit model\n",
    "  model.fit(trainX, trainy, epochs=200, verbose=0)\n",
    "  # evaluate the model\n",
    "  _, test_acc = model.evaluate(testX, testy, verbose=0)\n",
    "  return test_acc\n",
    "# generate 2d classification dataset\n",
    "X, y = make_blobs(n_samples=500, centers=3, n_features=2, cluster_std=2, random_state=2)\n",
    "y = to_categorical(y)\n",
    "# split into train and test\n",
    "n_train = int(0.3 * X.shape[0])\n",
    "trainX, testX = X[:n_train, :], X[n_train:, :]\n",
    "trainy, testy = y[:n_train], y[n_train:]\n",
    "# repeated evaluation\n",
    "n_repeats = 30\n",
    "scores = list()\n",
    "for _ in range(n_repeats):\n",
    "  score = evaluate_model(trainX, trainy, testX, testy) \n",
    "  print('> %.3f' % score)\n",
    "  scores.append(score)\n",
    "# summarize the distribution of scores\n",
    "print('Scores Mean: %.3f, Standard Deviation: %.3f' % (mean(scores), std(scores))) # histogram of distribution\n",
    "pyplot.hist(scores, bins=10)\n",
    "pyplot.show()\n",
    "# boxplot of distribution\n",
    "pyplot.boxplot(scores)\n",
    "pyplot.show()"
   ]
  }
 ],
 "metadata": {
  "kernelspec": {
   "display_name": "machine-learning-env",
   "language": "python",
   "name": "python3"
  },
  "language_info": {
   "codemirror_mode": {
    "name": "ipython",
    "version": 3
   },
   "file_extension": ".py",
   "mimetype": "text/x-python",
   "name": "python",
   "nbconvert_exporter": "python",
   "pygments_lexer": "ipython3",
   "version": "3.8.15"
  }
 },
 "nbformat": 4,
 "nbformat_minor": 2
}
